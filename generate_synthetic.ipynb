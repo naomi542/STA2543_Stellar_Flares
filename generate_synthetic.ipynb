{
 "cells": [
  {
   "cell_type": "code",
   "execution_count": null,
   "id": "42c191a6-65ab-401a-8589-4590a2365a41",
   "metadata": {},
   "outputs": [],
   "source": [
    "import numpy as np\n",
    "import pickle\n",
    "import scipy.stats as stats\n",
    "from scipy.signal import find_peaks\n",
    "from altaipony.flarelc import FlareLightCurve"
   ]
  },
  {
   "cell_type": "code",
   "execution_count": null,
   "id": "0f53bb48-be89-46d8-967c-949fb79a57b4",
   "metadata": {},
   "outputs": [],
   "source": [
    "# Load the processed light curve data from pickle file\n",
    "pickle_path = \"processed_lightcurves.pkl\"  # Replace with actual path\n",
    "with open(pickle_path, \"rb\") as f:\n",
    "    processed_lightcurves = pickle.load(f)"
   ]
  },
  {
   "cell_type": "code",
   "execution_count": null,
   "id": "850161dc-e7b4-40c4-9a2b-15be526772e5",
   "metadata": {},
   "outputs": [],
   "source": [
    "\n",
    "\n",
    "def generate_synthetic_flare(time, flux, num_flares_range=(1, 10), amplitude_range=(0.01, 0.1), decay_time_range=(0.1, 0.5)):\n",
    "    \"\"\"\n",
    "    Inject synthetic flares into a light curve while preserving pre-flare properties.\n",
    "    \"\"\"\n",
    "    synthetic_flux = flux.copy()\n",
    "    flare_labels = np.zeros_like(flux)\n",
    "    num_flares = np.random.randint(*num_flares_range)  # Vary the number of flares per star\n",
    "    \n",
    "    for _ in range(num_flares):\n",
    "        # Randomly select a flare start time ensuring pre-flare state is preserved\n",
    "        flare_start_idx = np.random.randint(0, len(time) - 1)\n",
    "        amplitude = np.random.uniform(*amplitude_range) * np.median(flux)\n",
    "        decay_time = np.random.uniform(*decay_time_range) * (time[-1] - time[0]) / len(time)\n",
    "        \n",
    "        # Create an exponential decay flare while preserving pre-flare flux properties\n",
    "        for i in range(flare_start_idx, len(time)):\n",
    "            time_diff = time[i] - time[flare_start_idx]\n",
    "            if time_diff < 0:\n",
    "                continue\n",
    "            decay_flux = amplitude * np.exp(-time_diff / decay_time)\n",
    "            synthetic_flux[i] += decay_flux\n",
    "            if decay_flux > 0.01 * amplitude:\n",
    "                flare_labels[i] = 1\n",
    "    \n",
    "    return synthetic_flux, flare_labels\n",
    "\n",
    "# Apply synthetic flare injection to each star type\n",
    "synthetic_lightcurves = {}\n",
    "for tic_id, data in processed_lightcurves.items():\n",
    "    time = data[\"time\"]\n",
    "    flux = data[\"detrended_flux\"]\n",
    "    \n",
    "    # Use original flare detection method before injection\n",
    "    flc = FlareLightCurve(time=time, flux=flux)\n",
    "    flcd = flc.detrend(\"savgol\")\n",
    "    flcd = flcd.find_flares()\n",
    "    \n",
    "    # Inject synthetic flares while keeping pre-flare properties\n",
    "    synthetic_flux, labels = generate_synthetic_flare(time, flcd.detrended_flux)\n",
    "    \n",
    "    # Store new dataset\n",
    "    synthetic_lightcurves[tic_id] = {\n",
    "        \"time\": time,\n",
    "        \"flux\": synthetic_flux,\n",
    "        \"original_flux\": flux,\n",
    "        \"detrended_flux\": flcd.detrended_flux.copy(),\n",
    "        \"flares\": flcd.flares.copy() if flcd.flares is not None else None,\n",
    "        \"labels\": labels,\n",
    "        \"pre_flare_flux\": flux.copy()  # Preserve pre-flare state for ML predictions\n",
    "    }\n",
    "\n"
   ]
  },
  {
   "cell_type": "code",
   "execution_count": null,
   "id": "35a8e1a6-df66-424e-8cc4-794ff4dc443f",
   "metadata": {},
   "outputs": [],
   "source": [
    "# Save the synthetic dataset\n",
    "synthetic_pickle_path = \"synthetic_lightcurves.pkl\"\n",
    "with open(synthetic_pickle_path, \"wb\") as f:\n",
    "    pickle.dump(synthetic_lightcurves, f)\n",
    "\n",
    "print(\"Synthetic dataset created with variable flares, preserved pre-flare properties, and consistent flare detection.\")\n"
   ]
  }
 ],
 "metadata": {
  "kernelspec": {
   "display_name": "Python 3 (ipykernel)",
   "language": "python",
   "name": "python3"
  },
  "language_info": {
   "codemirror_mode": {
    "name": "ipython",
    "version": 3
   },
   "file_extension": ".py",
   "mimetype": "text/x-python",
   "name": "python",
   "nbconvert_exporter": "python",
   "pygments_lexer": "ipython3",
   "version": "3.9.18"
  }
 },
 "nbformat": 4,
 "nbformat_minor": 5
}
