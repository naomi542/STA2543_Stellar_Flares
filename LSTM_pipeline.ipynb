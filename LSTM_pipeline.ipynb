{
 "cells": [
  {
   "cell_type": "code",
   "execution_count": null,
   "id": "16a5e80f-6f91-4a39-9853-3ad5c2a72d65",
   "metadata": {},
   "outputs": [],
   "source": [
    "import numpy as np\n",
    "import pickle\n",
    "import tensorflow as tf\n",
    "from tensorflow.keras.models import Sequential\n",
    "from tensorflow.keras.layers import LSTM, Dense, Dropout\n",
    "from tensorflow.keras.optimizers import Adam\n",
    "from sklearn.model_selection import train_test_split\n",
    "from sklearn.preprocessing import MinMaxScaler\n"
   ]
  },
  {
   "cell_type": "code",
   "execution_count": null,
   "id": "e981ffb5-b14c-4a4d-af98-6bef6a528c8d",
   "metadata": {},
   "outputs": [],
   "source": [
    "\n",
    "# Load the synthetic light curve dataset\n",
    "synthetic_pickle_path = \"synthetic_lightcurves.pkl\"\n",
    "with open(synthetic_pickle_path, \"rb\") as f:\n",
    "    synthetic_lightcurves = pickle.load(f)\n",
    "\n",
    "# Prepare time-series dataset for LSTM\n",
    "sequence_length = 100  # Number of past timesteps to use for prediction\n",
    "X, y = [], []\n",
    "\n",
    "for tic_id, data in synthetic_lightcurves.items():\n",
    "    flux = np.array(data[\"flux\"])\n",
    "    labels = np.array(data[\"labels\"])\n",
    "    \n",
    "    # Normalize flux values\n",
    "    scaler = MinMaxScaler()\n",
    "    flux_scaled = scaler.fit_transform(flux.reshape(-1, 1)).flatten()\n",
    "    \n",
    "    # Create time-series sequences\n",
    "    for i in range(len(flux) - sequence_length):\n",
    "        X.append(flux_scaled[i : i + sequence_length])  # Use past \"sequence_length\" values\n",
    "        y.append(labels[i + sequence_length])  # Predict if flare occurs at next timestep\n",
    "\n",
    "X, y = np.array(X), np.array(y)\n",
    "\n",
    "# Split dataset\n",
    "X_train, X_test, y_train, y_test = train_test_split(X, y, test_size=0.2, random_state=42, stratify=y)\n",
    "X_train = X_train.reshape((X_train.shape[0], X_train.shape[1], 1))\n",
    "X_test = X_test.reshape((X_test.shape[0], X_test.shape[1], 1))\n",
    "\n",
    "# Define LSTM model\n",
    "model = Sequential([\n",
    "    LSTM(64, return_sequences=True, input_shape=(sequence_length, 1)),\n",
    "    Dropout(0.2),\n",
    "    LSTM(32, return_sequences=False),\n",
    "    Dropout(0.2),\n",
    "    Dense(16, activation=\"relu\"),\n",
    "    Dense(1, activation=\"sigmoid\")  # Binary classification (flare/no flare)\n",
    "])\n",
    "\n",
    "# Compile model\n",
    "model.compile(loss=\"binary_crossentropy\", optimizer=Adam(learning_rate=0.001), metrics=[\"accuracy\"])\n",
    "\n",
    "# Train model\n",
    "history = model.fit(X_train, y_train, epochs=20, batch_size=32, validation_data=(X_test, y_test), verbose=1)\n",
    "\n",
    "# Evaluate model\n",
    "loss, accuracy = model.evaluate(X_test, y_test)\n",
    "print(f\"Test Accuracy: {accuracy:.4f}\")\n"
   ]
  }
 ],
 "metadata": {
  "kernelspec": {
   "display_name": "Python 3 (ipykernel)",
   "language": "python",
   "name": "python3"
  },
  "language_info": {
   "codemirror_mode": {
    "name": "ipython",
    "version": 3
   },
   "file_extension": ".py",
   "mimetype": "text/x-python",
   "name": "python",
   "nbconvert_exporter": "python",
   "pygments_lexer": "ipython3",
   "version": "3.9.18"
  }
 },
 "nbformat": 4,
 "nbformat_minor": 5
}
